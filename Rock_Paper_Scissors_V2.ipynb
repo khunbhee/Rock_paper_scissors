{
 "cells": [
  {
   "cell_type": "code",
   "execution_count": null,
   "metadata": {},
   "outputs": [],
   "source": [
    "from random import randint\n",
    "print(\"Rock Paper Scissors !!!\")\n",
    "P1_win = 0\n",
    "Computer_win = 0\n",
    "tie = 0\n",
    "times_playing = input(\"how many times do you have to win to be a winner ? : \")\n",
    "times_playing = int(times_playing)\n",
    "winning_score = times_playing\n",
    "\n",
    "\n",
    "while P1_win < winning_score and Computer_win < winning_score:\n",
    "    print(f\"P1 score : {P1_win}| Computer score : {Computer_win} | tie score {tie}\" )\n",
    "    P1 = input(\"P1 make your move: \").lower()\n",
    "#computer\n",
    "\n",
    "    rand_num = randint(0,2)\n",
    "    if rand_num == 0:\n",
    "        computer = \"rock\"\n",
    "    elif rand_num == 1:\n",
    "        computer = \"paper\"\n",
    "    else:\n",
    "        computer = \"scissors\"\n",
    "    print (\"computer plays : \" + computer)\n",
    "\n",
    "#RPS Logic\n",
    "    if P1 == computer:\n",
    "        tie = tie + 1\n",
    "        print(\"---Tie---\")\n",
    "\n",
    "    elif P1 == \"rock\": \n",
    "        if computer == \"scissors\":\n",
    "            print (\"---P1 win---\")\n",
    "            P1_win = P1_win + 1\n",
    "        elif computer == \"paper\":\n",
    "            print (\"---computer win---\")\n",
    "            Computer_win = Computer_win +1\n",
    "\n",
    "        \n",
    "    elif P1 == \"paper\" :\n",
    "        if computer == \"scissors\":\n",
    "            print(\"---computer win---\")\n",
    "            Computer_win = Computer_win +1\n",
    "        elif computer == \"rock\":\n",
    "            print (\"---P1 win---\")\n",
    "            P1 = P1_win + 1\n",
    "        \n",
    "    elif P1 == \"scissors\" :\n",
    "        if computer == \"paper\":\n",
    "            print (\"---P1 win---\")\n",
    "            P1 = P1_win + 1\n",
    "    elif computer == \"rock\":\n",
    "        print (\"---computer win---\")\n",
    "        Computer_win = Computer_win +1\n",
    "# winner\n",
    "else:\n",
    "    if P1_win > Computer_win:\n",
    "        print (\"===The winner is P1===\")\n",
    "    else:\n",
    "        print (\"===The winner is Computer===\")\n",
    "    print (f\"Final score P1: {P1_win}| Computer: {Computer_win} | tie : {tie}\")"
   ]
  },
  {
   "cell_type": "raw",
   "metadata": {},
   "source": []
  },
  {
   "cell_type": "code",
   "execution_count": null,
   "metadata": {},
   "outputs": [],
   "source": []
  },
  {
   "cell_type": "code",
   "execution_count": null,
   "metadata": {},
   "outputs": [],
   "source": []
  }
 ],
 "metadata": {
  "kernelspec": {
   "display_name": "Python 3",
   "language": "python",
   "name": "python3"
  },
  "language_info": {
   "codemirror_mode": {
    "name": "ipython",
    "version": 3
   },
   "file_extension": ".py",
   "mimetype": "text/x-python",
   "name": "python",
   "nbconvert_exporter": "python",
   "pygments_lexer": "ipython3",
   "version": "3.7.3"
  }
 },
 "nbformat": 4,
 "nbformat_minor": 2
}
